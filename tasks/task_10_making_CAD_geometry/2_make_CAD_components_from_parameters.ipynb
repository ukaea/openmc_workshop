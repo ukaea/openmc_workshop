{
 "cells": [
  {
   "cell_type": "markdown",
   "metadata": {},
   "source": [
    "# Part 2 - Making a parametric component\n",
    "\n",
    "In part one we made Shapes using coordinates / points.\n",
    "\n",
    "This workshop makes use of paramatric components, these are wrapped versions of Shapes and are able to do the tricky calculation of points on behalf of the user.\n",
    "\n",
    "Parameters are used with particular rules to define the production of components.\n",
    "\n",
    "In this notebook we make 3 components but others are available https://paramak.readthedocs.io/en/main/paramak.parametric_components.html"
   ]
  },
  {
   "cell_type": "markdown",
   "metadata": {},
   "source": [
    "#### Stage 1 - Poloidal Field Coils"
   ]
  },
  {
   "cell_type": "markdown",
   "metadata": {},
   "source": [
    "![pf](https://user-images.githubusercontent.com/8583900/94807412-86461280-03e7-11eb-9854-ecf66489c262.png)"
   ]
  },
  {
   "cell_type": "markdown",
   "metadata": {},
   "source": [
    "This first stage makes a set of poloidal field coils using the Paramak package.\n",
    "\n",
    "The documentation includes a full description of the shape and arguments.\n",
    "\n",
    "https://paramak.readthedocs.io/en/main/paramak.parametric_components.html#poloidalfieldcoil"
   ]
  },
  {
   "cell_type": "code",
   "execution_count": null,
   "metadata": {},
   "outputs": [],
   "source": [
    "import paramak\n",
    "from jupyter_cadquery.cadquery import show\n",
    "\n",
    "pf_1 = paramak.PoloidalFieldCoil(\n",
    "    height=50,\n",
    "    width=50,\n",
    "    center_point=(800,50),\n",
    "    rotation_angle=180\n",
    ")\n",
    "\n",
    "show(pf_1.solid)"
   ]
  },
  {
   "cell_type": "markdown",
   "metadata": {},
   "source": [
    "#### Stage 2 - Toroidal Field Coils"
   ]
  },
  {
   "cell_type": "markdown",
   "metadata": {},
   "source": [
    "![tf](https://user-images.githubusercontent.com/8583900/94529559-cd8aa280-0231-11eb-9919-48d3c642a5d7.png)\n",
    "\n",
    "This second stage makes a toroidal field coil using the Paramak package.\n",
    "\n",
    "The documentation includes a full description of the shape and arguments.\n",
    "\n",
    "https://paramak.readthedocs.io/en/main/paramak.parametric_components.html#toroidalfieldcoilprincetond"
   ]
  },
  {
   "cell_type": "code",
   "execution_count": null,
   "metadata": {},
   "outputs": [],
   "source": [
    "tf = paramak.ToroidalFieldCoilPrincetonD(\n",
    "    R1=100,\n",
    "    R2=700,\n",
    "    thickness=30,\n",
    "    distance=40,\n",
    "    number_of_coils=12,\n",
    "    rotation_angle=180\n",
    ")\n",
    "\n",
    "show(tf.solid)"
   ]
  },
  {
   "cell_type": "markdown",
   "metadata": {},
   "source": [
    "#### Stage 3 - Plasma"
   ]
  },
  {
   "cell_type": "markdown",
   "metadata": {},
   "source": [
    "![tf](https://user-images.githubusercontent.com/8583900/94805331-226e1a80-03e4-11eb-8623-3e6db0aa1489.png)\n",
    "\n",
    "This third stage makes a plasma shape.\n",
    "\n",
    "The documentation includes a full description of the shape and arguments.\n",
    "\n",
    "https://paramak.readthedocs.io/en/latest/paramak.parametric_components.html#plasma"
   ]
  },
  {
   "cell_type": "code",
   "execution_count": null,
   "metadata": {},
   "outputs": [],
   "source": [
    "plasma = paramak.Plasma(\n",
    "    minor_radius=150.,\n",
    "    major_radius=450.,\n",
    "    triangularity=0.55,\n",
    "    elongation=2.,\n",
    "    rotation_angle=180\n",
    ")\n",
    "\n",
    "show(plasma.solid)"
   ]
  },
  {
   "cell_type": "markdown",
   "metadata": {},
   "source": [
    "#### Stage 4 - Blanket"
   ]
  },
  {
   "cell_type": "markdown",
   "metadata": {},
   "source": [
    "![bl](https://user-images.githubusercontent.com/8583900/94867319-f0d36e80-0438-11eb-8516-7b8f2a7cc7ee.png)\n",
    "\n",
    "This fourth stage makes a blanket around the plasma.\n",
    "\n",
    "The documentation includes a full description of the shape and arguments.\n",
    "\n",
    "https://paramak.readthedocs.io/en/latest/paramak.parametric_components.html#blanketfp"
   ]
  },
  {
   "cell_type": "code",
   "execution_count": null,
   "metadata": {},
   "outputs": [],
   "source": [
    "blanket = paramak.BlanketFP(\n",
    "    plasma=plasma,  # this shape is built from another shape\n",
    "    thickness=20,\n",
    "    stop_angle=90,\n",
    "    start_angle=-90,\n",
    "    offset_from_plasma=20,\n",
    "    rotation_angle=180\n",
    ")\n",
    "\n",
    "show(blanket.solid)"
   ]
  },
  {
   "cell_type": "markdown",
   "metadata": {},
   "source": [
    "#### Stage 5 - Reactor object\n",
    "\n",
    "This final stage the combines the components into a single reactor object and exports them to CAD formats (stl and stp)."
   ]
  },
  {
   "cell_type": "code",
   "execution_count": null,
   "metadata": {},
   "outputs": [],
   "source": [
    "my_reactor = paramak.Reactor([pf_1, tf, blanket, plasma])\n",
    "\n",
    "my_reactor.export_stp()\n",
    "my_reactor.export_stl()\n",
    "\n",
    "show(my_reactor.solid)"
   ]
  },
  {
   "cell_type": "markdown",
   "metadata": {},
   "source": [
    "Links are provided so that the generated CAD files can be downloaded and opened locally.\n",
    "\n",
    "To open STL or STP files FreeCAD is great option and can be downloaded here: https://www.freecadweb.org/."
   ]
  },
  {
   "cell_type": "code",
   "execution_count": null,
   "metadata": {},
   "outputs": [],
   "source": [
    "from IPython.display import FileLink\n",
    "display(FileLink('PoloidalFieldCoil.stl'))\n",
    "display(FileLink('PoloidalFieldCoil.stp'))\n",
    "display(FileLink('ToroidalFieldCoilPrincetonD.stl'))\n",
    "display(FileLink('ToroidalFieldCoilPrincetonD.stp'))\n",
    "display(FileLink('plasma.stl'))\n",
    "display(FileLink('plasma.stp'))\n",
    "display(FileLink('BlanketFP.stl'))\n",
    "display(FileLink('BlanketFP.stp'))"
   ]
  },
  {
   "cell_type": "markdown",
   "metadata": {},
   "source": [
    "Importantly, the rector can also be exported as a h5m format which is the 3D geometry format used by DAGMC to represent neutronics geometry."
   ]
  },
  {
   "cell_type": "code",
   "execution_count": null,
   "metadata": {},
   "outputs": [],
   "source": [
    "my_reactor.export_h5m('dagmc.h5m')"
   ]
  },
  {
   "cell_type": "markdown",
   "metadata": {},
   "source": [
    "The h5m file can also be converted to a vtk for visulisation.\n",
    "\n",
    "The VTK file can be viewed with Paraview: https://www.paraview.org/download/."
   ]
  },
  {
   "cell_type": "code",
   "execution_count": null,
   "metadata": {},
   "outputs": [],
   "source": [
    "import os\n",
    "os.system('mbconvert dagmc.h5m dagmc.vtk')\n",
    "\n",
    "from IPython.display import FileLink\n",
    "display(FileLink('dagmc.vtk'))"
   ]
  },
  {
   "cell_type": "markdown",
   "metadata": {},
   "source": [
    "**Learning Outcomes for Part 1:**\n",
    "\n",
    "- CAD geometry can be used to build complex models with splines for use in neutronics simulations.\n",
    "- CAD-based neutronics has a number of advantages over CSG-based neutronics such as implicit voids."
   ]
  }
 ],
 "metadata": {
  "kernelspec": {
   "display_name": "Python 3",
   "language": "python",
   "name": "python3"
  },
  "language_info": {
   "codemirror_mode": {
    "name": "ipython",
    "version": 3
   },
   "file_extension": ".py",
   "mimetype": "text/x-python",
   "name": "python",
   "nbconvert_exporter": "python",
   "pygments_lexer": "ipython3",
   "version": "3.8.3"
  }
 },
 "nbformat": 4,
 "nbformat_minor": 4
}
