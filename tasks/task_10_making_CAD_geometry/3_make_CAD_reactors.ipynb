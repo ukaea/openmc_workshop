{
 "cells": [
  {
   "cell_type": "markdown",
   "metadata": {},
   "source": [
    "# Part 3 - Make a reactor geometry from parameters\n",
    "\n",
    "This notebook allows users to create a more complete 3D CAD model of a reactor using the Paramak and export it to a CAD format and images.\n",
    "\n",
    "There are several reactors available in the Paramak, examples of which are shown below. In this task, we are going to be making the upper left reactor model."
   ]
  },
  {
   "cell_type": "markdown",
   "metadata": {},
   "source": [
    "![cad](https://user-images.githubusercontent.com/8583900/99137324-fddfa200-2621-11eb-9063-f5f7f60ddd8d.png)"
   ]
  },
  {
   "cell_type": "markdown",
   "metadata": {},
   "source": [
    "This digram shows how the parameters impact the 3D volume reated"
   ]
  },
  {
   "cell_type": "markdown",
   "metadata": {},
   "source": [
    "![diagram](https://user-images.githubusercontent.com/8583900/99298720-09a9af00-2842-11eb-816b-86492555f97d.png)"
   ]
  },
  {
   "cell_type": "markdown",
   "metadata": {},
   "source": [
    "This first code block creates a reactor object based on a the predefined deisgn and visulises it. Try running the code block and using the diagram about try changing some of the parameters to see how this impacts the model."
   ]
  },
  {
   "cell_type": "code",
   "execution_count": null,
   "metadata": {},
   "outputs": [],
   "source": [
    "import paramak\n",
    "from jupyter_cadquery.cadquery import show\n",
    "\n",
    "my_reactor = paramak.BallReactor(\n",
    "    inner_bore_radial_thickness=10,\n",
    "    inboard_tf_leg_radial_thickness=30,\n",
    "    center_column_shield_radial_thickness=60,\n",
    "    divertor_radial_thickness=150,\n",
    "    inner_plasma_gap_radial_thickness=30,\n",
    "    plasma_radial_thickness=300,\n",
    "    outer_plasma_gap_radial_thickness=30,\n",
    "    firstwall_radial_thickness=30,\n",
    "    blanket_radial_thickness=50,\n",
    "    blanket_rear_wall_radial_thickness=30,\n",
    "    elongation=2,\n",
    "    triangularity=0.55,\n",
    "    number_of_tf_coils=16,\n",
    "    rotation_angle=180,\n",
    "    pf_coil_radial_thicknesses=[50, 50, 50, 50],\n",
    "    pf_coil_vertical_thicknesses=[50, 50, 50, 50],\n",
    "    pf_coil_to_rear_blanket_radial_gap=50,\n",
    "    pf_coil_to_tf_coil_radial_gap=50,\n",
    "    outboard_tf_coil_radial_thickness=100,\n",
    "    outboard_tf_coil_poloidal_thickness=50\n",
    ")\n",
    "\n",
    "show(my_reactor.solid)"
   ]
  },
  {
   "cell_type": "markdown",
   "metadata": {},
   "source": [
    "This exports the 3D CAD files in STP format and a picture of the model as an SVG image"
   ]
  },
  {
   "cell_type": "code",
   "execution_count": null,
   "metadata": {},
   "outputs": [],
   "source": [
    "my_reactor.export_svg('reactor.svg')\n",
    "filenames = my_reactor.export_stp()"
   ]
  },
  {
   "cell_type": "markdown",
   "metadata": {},
   "source": [
    "This code block generates the download links for all the different components that have just been made."
   ]
  },
  {
   "cell_type": "code",
   "execution_count": null,
   "metadata": {},
   "outputs": [],
   "source": [
    "from IPython.display import FileLink\n",
    "display(FileLink('reactor.svg'))\n",
    "for file in filenames:\n",
    "    display(FileLink(str(file)))"
   ]
  },
  {
   "cell_type": "markdown",
   "metadata": {},
   "source": [
    "This model could then be used in neutronics simulations with some additional stages, see https://paramak.readthedocs.io/en/main/paramak.parametric_neutronics.html for more details. The next few tasks also cover CAD based simulations."
   ]
  },
  {
   "cell_type": "markdown",
   "metadata": {},
   "source": [
    "**Learning Outcomes for Part 2:**\n",
    "\n",
    "- The Paramak tool allows CAD models of more complex reactor designs to be created easily."
   ]
  }
 ],
 "metadata": {
  "kernelspec": {
   "display_name": "Python 3",
   "language": "python",
   "name": "python3"
  },
  "language_info": {
   "codemirror_mode": {
    "name": "ipython",
    "version": 3
   },
   "file_extension": ".py",
   "mimetype": "text/x-python",
   "name": "python",
   "nbconvert_exporter": "python",
   "pygments_lexer": "ipython3",
   "version": "3.8.3"
  }
 },
 "nbformat": 4,
 "nbformat_minor": 4
}
