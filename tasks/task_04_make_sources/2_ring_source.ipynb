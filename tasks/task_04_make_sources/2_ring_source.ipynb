{
 "cells": [
  {
   "cell_type": "markdown",
   "metadata": {},
   "source": [
    "# Part 1 - Ring source plotting\n",
    "\n",
    "This python notebook shows users how to make a simple ring source in OpenMC and plot the position of source particles."
   ]
  },
  {
   "cell_type": "markdown",
   "metadata": {},
   "source": [
    "We will make use of the CylindricalIndependent source as described in the docs\n",
    "https://docs.openmc.org/en/stable/pythonapi/generated/openmc.stats.CylindricalIndependent.html\n",
    "\n",
    "The CylindricalIndependent source can make makes a ring shaped source with the corect inputs.\n",
    "- The r value (distribution of radius values)\n",
    "- The phi value (distribution of azimuthal angle values)\n",
    "- The z value (distribution of z values on the z axis)\n",
    "\n",
    "Each of these inputs must be a univariate probability disitribution."
   ]
  },
  {
   "cell_type": "markdown",
   "metadata": {},
   "source": [
    "OpenMC has several built in distributions for popular distributions such as Normal, Maxwell and others.\n",
    "\n",
    "See the full list here https://docs.openmc.org/en/stable/pythonapi/stats.html#univariate-probability-distributions\n",
    "\n",
    "In this example we are going to make use of the Uniform disitrbution by feel free to tinker with the differnt distributions an make your own source."
   ]
  },
  {
   "cell_type": "code",
   "execution_count": null,
   "metadata": {},
   "outputs": [],
   "source": [
    "import openmc\n",
    "from source_extraction_utils import *  # imports plotting functions\n",
    "\n",
    "# initialises a new source object\n",
    "source = openmc.Source()\n",
    "\n",
    "# the distribution of radius is just a single value\n",
    "radius = openmc.stats.Discrete([10], [1])\n",
    "\n",
    "# the distribution of source z values is just a single value\n",
    "z_values = openmc.stats.Discrete([0], [1])\n",
    "\n",
    "# the distribution of source azimuthal angles values is a uniform distribution between 0 and 2 Pi\n",
    "angle = openmc.stats.Uniform(a=0., b=2* 3.14159265359)\n",
    "\n",
    "# this makes the ring source using the three distributions and a radius\n",
    "source.space = openmc.stats.CylindricalIndependent(r=radius, phi=angle, z=z_values, origin=(0.0, 0.0, 0.0))\n",
    "\n",
    "# sets the direction to isotropic\n",
    "source.angle = openmc.stats.Isotropic()\n",
    "\n",
    "# sets the energy distribution to a Muir distribution neutrons\n",
    "source.energy = openmc.stats.Muir(e0=14080000.0, m_rat=5.0, kt=20000.0)\n",
    "\n",
    "create_inital_particles(source)\n",
    "plot_postion_from_initial_source()"
   ]
  },
  {
   "cell_type": "markdown",
   "metadata": {},
   "source": [
    "This is closer to looking like a plasma compared to a point source but the distribution of spatial distribution can be improved in the next task"
   ]
  }
 ],
 "metadata": {
  "kernelspec": {
   "display_name": "Python 3",
   "language": "python",
   "name": "python3"
  },
  "language_info": {
   "codemirror_mode": {
    "name": "ipython",
    "version": 3
   },
   "file_extension": ".py",
   "mimetype": "text/x-python",
   "name": "python",
   "nbconvert_exporter": "python",
   "pygments_lexer": "ipython3",
   "version": "3.8.3"
  }
 },
 "nbformat": 4,
 "nbformat_minor": 4
}
