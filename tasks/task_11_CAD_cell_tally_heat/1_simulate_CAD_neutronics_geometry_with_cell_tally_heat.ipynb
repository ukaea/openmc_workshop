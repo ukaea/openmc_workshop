{
 "cells": [
  {
   "cell_type": "markdown",
   "metadata": {},
   "source": [
    "# Neutronics simulation with CAD geometry\n",
    "\n",
    "This example creates a CAD geometry and then carries out a neutronics simulation with a heating cell tally."
   ]
  },
  {
   "cell_type": "markdown",
   "metadata": {},
   "source": [
    "This section makes a few components and places them in a reactor object. These will form the CAD model with which we will perform a neutronics simulation."
   ]
  },
  {
   "cell_type": "code",
   "execution_count": null,
   "metadata": {},
   "outputs": [],
   "source": [
    "import paramak\n",
    "from jupyter_cadquery.cadquery import show\n",
    "\n",
    "pf_1 = paramak.PoloidalFieldCoil(\n",
    "    height=50,\n",
    "    width=50,\n",
    "    center_point=(800,50),\n",
    "    rotation_angle=360,  # note the components are all rotated 360 to make a full sector model\n",
    "    material_tag='pf_coil_mat'\n",
    ")\n",
    "\n",
    "tf = paramak.ToroidalFieldCoilCoatHanger(\n",
    "    horizontal_start_point=(200, 500),\n",
    "    horizontal_length=400,\n",
    "    vertical_mid_point=(700, 50),\n",
    "    vertical_length=500,\n",
    "    thickness=50,\n",
    "    distance=50,\n",
    "    stp_filename=\"toroidal_field_coil_coat_hanger.stp\",\n",
    "    number_of_coils=8,\n",
    "    with_inner_leg=True,\n",
    "    material_tag='tf_coil_mat'\n",
    ")\n",
    "\n",
    "plasma = paramak.Plasma(\n",
    "    minor_radius=150.,\n",
    "    major_radius=450.,\n",
    "    triangularity=0.55,\n",
    "    elongation=2.,\n",
    "    rotation_angle=360\n",
    ")\n",
    "\n",
    "blanket = paramak.BlanketFP(\n",
    "    plasma=plasma,\n",
    "    thickness=20,\n",
    "    stop_angle=90,\n",
    "    start_angle=-90,\n",
    "    offset_from_plasma=20,\n",
    "    rotation_angle=360,\n",
    "    material_tag='blanket_mat'\n",
    ")\n",
    "\n",
    "my_reactor = paramak.Reactor([pf_1, tf, blanket])  # note the plasma is not added\n",
    "#  The plasma doesn't interact much with the neutrons (low density)\n",
    "# but the curved shape does slow down the simulation due to the large number of facets need\n",
    "# so it has been removed to speed up the example\n",
    "\n",
    "my_reactor.rotation_angle=360  # this is a small \"feature\" which we will fix soon\n",
    "show(my_reactor.solid)"
   ]
  },
  {
   "cell_type": "markdown",
   "metadata": {},
   "source": [
    "This section makes a plasma source which we will use as the source for the neutronics model."
   ]
  },
  {
   "cell_type": "code",
   "execution_count": null,
   "metadata": {},
   "outputs": [],
   "source": [
    "from parametric_plasma_source import PlasmaSource, SOURCE_SAMPLING_PATH\n",
    "import openmc\n",
    "\n",
    "\n",
    "my_plasma = PlasmaSource(\n",
    "    ion_density_origin=1.09e20,\n",
    "    ion_density_peaking_factor=1,\n",
    "    ion_density_pedestal=1.09e20,\n",
    "    ion_density_separatrix=3e19,\n",
    "    ion_temperature_origin=45.9,\n",
    "    ion_temperature_peaking_factor=8.06,\n",
    "    ion_temperature_pedestal=6.09,\n",
    "    ion_temperature_separatrix=0.1,\n",
    "    elongation=plasma.elongation,  # note some args are take from the plasma object\n",
    "    triangularity=plasma.triangularity,\n",
    "    major_radius=plasma.major_radius / 100,  # note the / 100 scales the source to cm\n",
    "    minor_radius=plasma.minor_radius / 100,\n",
    "    pedestal_radius=(0.8 * plasma.minor_radius) / 100,\n",
    "    plasma_id=1,\n",
    "    shafranov_shift=0.44789,\n",
    "\n",
    "    ion_temperature_beta=6\n",
    ")\n",
    "\n",
    "source = openmc.Source()\n",
    "source.library = SOURCE_SAMPLING_PATH\n",
    "source.parameters = str(my_plasma)"
   ]
  },
  {
   "cell_type": "markdown",
   "metadata": {},
   "source": [
    "This section forms the neutronics model by combining the 3D model, the plasma source and some assigned materials. Additionally, the tallies to record the heating are specified. There are a few different methods of converting a CAD model into a neutronics model. The 'pymoab' method is the only open-source automated method that can also convert splines."
   ]
  },
  {
   "cell_type": "code",
   "execution_count": null,
   "metadata": {},
   "outputs": [],
   "source": [
    "neutronics_model = paramak.NeutronicsModel(\n",
    "    geometry=my_reactor,\n",
    "    cell_tallies=['heating'],\n",
    "    source=source,\n",
    "    simulation_batches=10,\n",
    "    simulation_particles_per_batch=10,\n",
    "    materials={\n",
    "        'pf_coil_mat': 'copper',\n",
    "        'tf_coil_mat': 'copper',\n",
    "        'blanket_mat': 'Li4SiO4',\n",
    "    }\n",
    ")\n",
    "\n",
    "neutronics_model.simulate()"
   ]
  },
  {
   "cell_type": "markdown",
   "metadata": {},
   "source": [
    "The results of the simulation are printed with the following command. The tallied neutronics output was heating."
   ]
  },
  {
   "cell_type": "code",
   "execution_count": null,
   "metadata": {},
   "outputs": [],
   "source": [
    "neutronics_model.results"
   ]
  },
  {
   "cell_type": "markdown",
   "metadata": {},
   "source": [
    "**Learning Outcomes from Task 11**\n",
    "\n",
    "- Neutronics simulations can be performed by combining CAD models, neutron sources and material definitions."
   ]
  }
 ],
 "metadata": {
  "kernelspec": {
   "display_name": "Python 3",
   "language": "python",
   "name": "python3"
  },
  "language_info": {
   "codemirror_mode": {
    "name": "ipython",
    "version": 3
   },
   "file_extension": ".py",
   "mimetype": "text/x-python",
   "name": "python",
   "nbconvert_exporter": "python",
   "pygments_lexer": "ipython3",
   "version": "3.8.3"
  }
 },
 "nbformat": 4,
 "nbformat_minor": 4
}
