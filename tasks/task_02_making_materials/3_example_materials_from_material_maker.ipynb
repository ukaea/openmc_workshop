{
 "cells": [
  {
   "cell_type": "markdown",
   "metadata": {},
   "source": [
    "# Part 3 - Making materials from a library\n",
    "\n",
    "As we have seen in Parts 1 and 2, materials can be defined in OpenMC using isotopes and elements.\n",
    "\n",
    "The problem with this is that to construct some materials the user would be required to input many lines of code. As a result, there is opportunity for errors and the code becomes harder to maintain.\n",
    "\n",
    "Wouldn't it be great if someone had made a nice collection of the material definitions used in fusion neutronics that could simply be used without having to remember all of the isotopes or elements that go into each one? It would be even better if the density was automatically adjusted to account for isotopic enrichment, temperature and pressure effects.\n",
    "\n",
    "Fortunately, there is an app for that called the Neutronics Material Maker which makes material making very convenient. Full transparency - the author of this package is also the author of this OpenMC workshop :-)\n",
    "\n",
    "Further details on this open-source Python package are available here:\n",
    "https://github.com/ukaea/neutronics_material_maker\n",
    "https://neutronics-material-maker.readthedocs.io/en/latest/\n",
    "https://pypi.org/project/neutronics-material-maker/\n",
    "\n",
    "This python notebook allows users to create different materials using the Neutronics Material Maker."
   ]
  },
  {
   "cell_type": "markdown",
   "metadata": {},
   "source": [
    "The following code block is a simple example of importing the package and using it to create Eurofer."
   ]
  },
  {
   "cell_type": "code",
   "execution_count": null,
   "metadata": {},
   "outputs": [],
   "source": [
    "# example material from the library\n",
    "\n",
    "import neutronics_material_maker as nmm\n",
    "\n",
    "eurofer_mat = nmm.Material.from_library('eurofer')\n",
    "\n",
    "eurofer_mat.openmc_material"
   ]
  },
  {
   "cell_type": "markdown",
   "metadata": {},
   "source": [
    "Some materials require additional arguments to correctly calculate material properties.\n",
    "\n",
    "Coolants such as water, helium, CO2 and others require temperature and density information to find the density.\n",
    "\n",
    "This code block creates H2O at a particular temperature and pressure."
   ]
  },
  {
   "cell_type": "code",
   "execution_count": null,
   "metadata": {},
   "outputs": [],
   "source": [
    "# Water requires temperature and pressure arguments to be passed\n",
    "water = nmm.Material.from_library('H2O', temperature=300, pressure=100000)\n",
    "\n",
    "water.openmc_material"
   ]
  },
  {
   "cell_type": "markdown",
   "metadata": {},
   "source": [
    "Some materials can also take enrichment arguments which adjust the material density.\n",
    "\n",
    "The following code blocks create Li4SiO4 materials with different enrichments and packing fractions."
   ]
  },
  {
   "cell_type": "code",
   "execution_count": null,
   "metadata": {},
   "outputs": [],
   "source": [
    "# Lithium Orthosilicate (Li4SiO4) can take arguments of 'enrichment', 'enrichment_target', 'enrichment_type' and 'packing_fraction'\n",
    "# Note: for some lithium crystals, 'enrichment_target' and 'enrichment_type' are defined by default, but can be changed\n",
    "\n",
    "default_Li4SiO4 = nmm.Material.from_library('Li4SiO4')\n",
    "default_Li4SiO4.openmc_material"
   ]
  },
  {
   "cell_type": "code",
   "execution_count": null,
   "metadata": {},
   "outputs": [],
   "source": [
    "# the following command creates Li4SiO4 with respect to given arguments but uses the default values for enrichment_target and enrichment_type\n",
    "# enrichment_target='Li6', enrichment_type='ao' defined by default\n",
    "\n",
    "enriched_and_packed_Li4SiO4 = nmm.Material.from_library(\n",
    "    'Li4SiO4',\n",
    "    enrichment=60,\n",
    "    packing_fraction=0.64\n",
    ")   \n",
    "enriched_and_packed_Li4SiO4.openmc_material"
   ]
  },
  {
   "cell_type": "markdown",
   "metadata": {},
   "source": [
    "The Neutronics Material Maker is a powerful tool which allows complicated materials to be created easily, but what about fine tuning these materials or mixing them together? These are covered in the next parts."
   ]
  },
  {
   "cell_type": "markdown",
   "metadata": {},
   "source": [
    "**Learning Outcomes for Part 3:**\n",
    "\n",
    "- The Neutronics Material Maker is a python package which can be used to create neutronics materials easily.\n",
    "- The package makes it easy to account for isotopic enrichment, temperature and pressure effects."
   ]
  }
 ],
 "metadata": {
  "kernelspec": {
   "display_name": "Python 3",
   "language": "python",
   "name": "python3"
  },
  "language_info": {
   "codemirror_mode": {
    "name": "ipython",
    "version": 3
   },
   "file_extension": ".py",
   "mimetype": "text/x-python",
   "name": "python",
   "nbconvert_exporter": "python",
   "pygments_lexer": "ipython3",
   "version": "3.8.3"
  }
 },
 "nbformat": 4,
 "nbformat_minor": 4
}
