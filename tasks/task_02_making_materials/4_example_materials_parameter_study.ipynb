{
 "cells": [
  {
   "cell_type": "markdown",
   "metadata": {},
   "source": [
    "# Part 4 - Changing materials\n",
    "\n",
    "As we saw in Part 3, the Neutronics Material Maker makes it easy to find the density of materials.\n",
    "\n",
    "It is important to account for material density correctly in neutronics simulations as the density of a material impacts the number density of atoms and therefore the neutronics reaction rate.\n",
    "\n",
    "Density is impacted by material properties such as temperature, enrichment and pressure."
   ]
  },
  {
   "cell_type": "code",
   "execution_count": null,
   "metadata": {},
   "outputs": [],
   "source": [
    "# imports packages needed for the example\n",
    "\n",
    "import numpy as np\n",
    "import plotly.graph_objs as go\n",
    "\n",
    "import neutronics_material_maker as nmm"
   ]
  },
  {
   "cell_type": "markdown",
   "metadata": {},
   "source": [
    "The following example calculates water density as a function of temperature (at constant pressure) using the Neutronics Material Maker. The Neutronics Material Maker uses the Python CoolProp package to do this.\n",
    "\n",
    "Using input parameters from the WCLL blanket, we will show density as a function of temperature over a large range (at constant pressure).\n",
    "\n",
    "WCLL input parameters:\n",
    "- pressure = 15.5 MPa\n",
    "- inlet temperature = 285 degrees C\n",
    "- outlet temperature = 325 degrees C"
   ]
  },
  {
   "cell_type": "code",
   "execution_count": null,
   "metadata": {},
   "outputs": [],
   "source": [
    "temperatures = np.linspace(400, 800., 100)\n",
    "\n",
    "water_densities = [nmm.Material.from_library('H2O', temperature=temperature, pressure=15500000).openmc_material.density for temperature in temperatures]\n",
    "\n",
    "fig = go.Figure()\n",
    "\n",
    "fig.add_trace(go.Scatter(\n",
    "    x=temperatures,\n",
    "    y=water_densities,\n",
    "    mode='lines+markers',\n",
    "    showlegend=False),\n",
    ")\n",
    "\n",
    "fig.update_layout(\n",
    "    title=\"Water density as a function of temperature (at constant pressure)\",\n",
    "    xaxis_title=\"Temperature in C\",\n",
    "    yaxis_title=\"Density (g/cm3)\"\n",
    ")\n",
    "\n",
    "fig.show()"
   ]
  },
  {
   "cell_type": "markdown",
   "metadata": {},
   "source": [
    "Similarly, the next example shows how Helium density changes as a function of pressure (at constant temperature)."
   ]
  },
  {
   "cell_type": "code",
   "execution_count": null,
   "metadata": {},
   "outputs": [],
   "source": [
    "pressures = np.linspace(1000000., 10000000., 100)\n",
    "\n",
    "helium_densities = [nmm.Material.from_library('He', temperature=700, pressure=pressure).openmc_material.density for pressure in pressures]\n",
    "\n",
    "fig = go.Figure()\n",
    "\n",
    "fig.add_trace(go.Scatter(\n",
    "    x=pressures,\n",
    "    y=helium_densities,\n",
    "    mode='lines+markers',\n",
    "    showlegend=False),\n",
    ")\n",
    "\n",
    "fig.update_layout(\n",
    "    title=\"Helium density as a function of pressure (at constant temperature)\",\n",
    "    xaxis_title=\"Pressure in Pa\",\n",
    "    yaxis_title=\"Density (g/cm3)\"\n",
    ")\n",
    "\n",
    "fig.show()"
   ]
  },
  {
   "cell_type": "markdown",
   "metadata": {},
   "source": [
    "This example shows how the density of a Lithium ceramic changes as a function of Lithium-6 enrichment."
   ]
  },
  {
   "cell_type": "code",
   "execution_count": null,
   "metadata": {},
   "outputs": [],
   "source": [
    "enrichments = np.linspace(0., 100., 50)\n",
    "\n",
    "li4sio4_densities = [nmm.Material.from_library('Li4SiO4', enrichment=enrichment).openmc_material.density for enrichment in enrichments]\n",
    "\n",
    "fig =go.Figure()\n",
    "\n",
    "fig.add_trace(go.Scatter(\n",
    "    x=enrichments,\n",
    "    y=li4sio4_densities,\n",
    "    mode='lines+markers',\n",
    "    showlegend=False),\n",
    ")\n",
    "\n",
    "fig.update_layout(\n",
    "    title=\"Lithium ceramic density as a function of Li-6 enrichment\",\n",
    "    xaxis_title=\"Li-6 enrichment\",\n",
    "    yaxis_title=\"Density (g/cm3)\"\n",
    ")\n",
    "\n",
    "fig.show()"
   ]
  },
  {
   "cell_type": "markdown",
   "metadata": {},
   "source": [
    "(Note: A density parameter study like this is not possible using in-built OpenMC functions as material densities must be specified explicitly)."
   ]
  },
  {
   "cell_type": "markdown",
   "metadata": {},
   "source": [
    "**Learning Outcomes for Part 4:**\n",
    "\n",
    "- Understand that density varies for materials as a function of pressure, temperature and enrichment.\n",
    "- It is important to account for materials properties correctly, especially when the impact material density."
   ]
  }
 ],
 "metadata": {
  "kernelspec": {
   "display_name": "Python 3",
   "language": "python",
   "name": "python3"
  },
  "language_info": {
   "codemirror_mode": {
    "name": "ipython",
    "version": 3
   },
   "file_extension": ".py",
   "mimetype": "text/x-python",
   "name": "python",
   "nbconvert_exporter": "python",
   "pygments_lexer": "ipython3",
   "version": "3.8.3"
  }
 },
 "nbformat": 4,
 "nbformat_minor": 4
}
