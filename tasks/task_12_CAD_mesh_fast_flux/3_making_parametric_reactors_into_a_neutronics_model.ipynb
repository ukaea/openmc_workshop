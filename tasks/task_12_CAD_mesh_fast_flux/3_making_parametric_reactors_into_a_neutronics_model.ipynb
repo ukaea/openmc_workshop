{
 "cells": [
  {
   "cell_type": "markdown",
   "metadata": {},
   "source": [
    "# This task is not quite ready as we don't have an open source route for simulating geometry that requires imprinting and merging. However this simulation can be carried out using Trelis."
   ]
  },
  {
   "cell_type": "markdown",
   "metadata": {},
   "source": [
    "# Heating Mesh Tally on CAD geometry made from Components\n",
    "\n",
    "This constructs a reactor geometry from 3 Component objects each made from points.\n",
    "\n",
    "The Component made include a breeder blanket, PF coil and a central column shield.\n",
    "\n",
    "2D and 3D Meshes tally are then simulated to show nuclear heating, flux and tritium_production across the model."
   ]
  },
  {
   "cell_type": "markdown",
   "metadata": {},
   "source": [
    "This section makes the 3d geometry for the entire reactor from a input parameters."
   ]
  },
  {
   "cell_type": "code",
   "execution_count": null,
   "metadata": {},
   "outputs": [],
   "source": [
    "import paramak\n",
    "from jupyter_cadquery.cadquery import show\n",
    "\n",
    "my_reactor = paramak.BallReactor(\n",
    "    inner_bore_radial_thickness=50,\n",
    "    inboard_tf_leg_radial_thickness=55,\n",
    "    center_column_shield_radial_thickness=50,\n",
    "    divertor_radial_thickness=50,\n",
    "    inner_plasma_gap_radial_thickness=50,\n",
    "    plasma_radial_thickness=100,\n",
    "    outer_plasma_gap_radial_thickness=50,\n",
    "    firstwall_radial_thickness=1,\n",
    "    blanket_radial_thickness=100,\n",
    "    blanket_rear_wall_radial_thickness=10,\n",
    "    elongation=2,\n",
    "    triangularity=0.55,\n",
    "    number_of_tf_coils=16,\n",
    "    rotation_angle=180,\n",
    ")\n",
    "\n",
    "# TF and PF coils can be added with additional arguments.\n",
    "# see the documentation for more details \n",
    "# https://paramak.readthedocs.io/en/main/paramak.parametric_reactors.html\n",
    "\n",
    "show(my_reactor.solid)"
   ]
  },
  {
   "cell_type": "markdown",
   "metadata": {},
   "source": [
    "The next section defines the materials. This can be done using openmc.Materials or in this case strings that look up materials from the neutronics material maker."
   ]
  },
  {
   "cell_type": "code",
   "execution_count": null,
   "metadata": {},
   "outputs": [],
   "source": [
    "my_reactor.export_stp()\n",
    "\n",
    "from IPython.display import FileLink\n",
    "display(FileLink('blanket.stp'))\n",
    "display(FileLink('pf_coil.stp'))\n",
    "display(FileLink('center_column.stp'))\n",
    "display(FileLink('Graveyard.stp'))"
   ]
  },
  {
   "cell_type": "markdown",
   "metadata": {},
   "source": [
    "The next section defines the materials. This can be done using openmc.Materials or in this case strings that look up materials from the neutronics material maker."
   ]
  },
  {
   "cell_type": "code",
   "execution_count": null,
   "metadata": {},
   "outputs": [],
   "source": [
    "from neutronics_material_maker import Material\n",
    "\n",
    "mat1 = Material(material_name='Li4SiO4',\n",
    "                material_tag='blanket_material')\n",
    "\n",
    "mat2 = Material(material_name='copper',\n",
    "                material_tag='pf_coil_material')\n",
    "\n",
    "mat3 = Material(material_name='WC',\n",
    "                material_tag='center_column_material')"
   ]
  },
  {
   "cell_type": "markdown",
   "metadata": {},
   "source": [
    "This next step makes a simple point source."
   ]
  },
  {
   "cell_type": "code",
   "execution_count": null,
   "metadata": {},
   "outputs": [],
   "source": [
    "import openmc\n",
    "\n",
    "# initialises a new source object\n",
    "source = openmc.Source()\n",
    "\n",
    "# sets the location of the source to x=0 y=0 z=0\n",
    "source.space = openmc.stats.Point((100, 0, 0))\n",
    "\n",
    "# sets the direction to isotropic\n",
    "source.angle = openmc.stats.Isotropic()\n",
    "\n",
    "# sets the energy distribution to 100% 14MeV neutrons\n",
    "source.energy = openmc.stats.Discrete([14e6], [1])"
   ]
  },
  {
   "cell_type": "markdown",
   "metadata": {},
   "source": [
    "This next section combines the geometry with the materials and specifies a few mesh tallies"
   ]
  },
  {
   "cell_type": "code",
   "execution_count": null,
   "metadata": {},
   "outputs": [],
   "source": [
    "neutronics_model = paramak.NeutronicsModel(\n",
    "    geometry=my_reactor,\n",
    "    cell_tallies=['heating', 'flux', 'TBR', 'spectra'],\n",
    "    mesh_tally_2d=['heating', 'flux', '(n,Xt)'],\n",
    "    mesh_tally_3d=['heating', 'flux', '(n,Xt)'],\n",
    "    source=source,\n",
    "    simulation_batches=2,\n",
    "    simulation_particles_per_batch=10000,\n",
    "    materials={\n",
    "        'blanket_material': mat1,\n",
    "        'pf_coil_material': mat2,\n",
    "        'center_column_material': mat3,\n",
    "    }\n",
    ")\n",
    "\n",
    "\n",
    "# You will need to have Trelis installed to run this command\n",
    "neutronics_model.simulate()"
   ]
  },
  {
   "cell_type": "markdown",
   "metadata": {},
   "source": [
    "The next section produces download links for:\n",
    "\n",
    "- vtk files that contain the 3D mesh results (open with Paraview)\n",
    "- png images that show the resuls of the 2D mesh tally"
   ]
  },
  {
   "cell_type": "code",
   "execution_count": null,
   "metadata": {},
   "outputs": [],
   "source": [
    "from IPython.display import FileLink\n",
    "display(FileLink('heating_on_3D_mesh.vtk'))\n",
    "display(FileLink('flux_on_3D_mesh.vtk'))\n",
    "display(FileLink('tritium_production_on_3D_mesh.vtk'))\n",
    "display(FileLink('flux_on_2D_mesh_xy.png'))\n",
    "display(FileLink('flux_on_2D_mesh_xz.png'))\n",
    "display(FileLink('flux_on_2D_mesh_yz.png'))\n",
    "display(FileLink('heating_on_2D_mesh_xy.png'))\n",
    "display(FileLink('heating_on_2D_mesh_xz.png'))\n",
    "display(FileLink('heating_on_2D_mesh_yz.png'))\n",
    "display(FileLink('tritium_production_on_2D_mesh_yz.png'))\n",
    "display(FileLink('tritium_production_on_2D_mesh_xz.png'))\n",
    "display(FileLink('tritium_production_on_2D_mesh_yz.png'))"
   ]
  },
  {
   "cell_type": "code",
   "execution_count": null,
   "metadata": {},
   "outputs": [],
   "source": []
  }
 ],
 "metadata": {
  "kernelspec": {
   "display_name": "Python 3",
   "language": "python",
   "name": "python3"
  },
  "language_info": {
   "codemirror_mode": {
    "name": "ipython",
    "version": 3
   },
   "file_extension": ".py",
   "mimetype": "text/x-python",
   "name": "python",
   "nbconvert_exporter": "python",
   "pygments_lexer": "ipython3",
   "version": "3.8.3"
  }
 },
 "nbformat": 4,
 "nbformat_minor": 4
}
